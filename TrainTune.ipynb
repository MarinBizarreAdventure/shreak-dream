{
 "cells": [
  {
   "cell_type": "markdown",
   "metadata": {},
   "source": [
    "# Train and Tune: Final Model Training\n",
    "\n",
    "70/30 split with monte carlo cross-validation"
   ]
  },
  {
   "cell_type": "code",
   "execution_count": 68,
   "metadata": {},
   "outputs": [],
   "source": [
    "import pandas as pd\n",
    "import numpy as np\n",
    "import matplotlib.pyplot as plt\n",
    "import seaborn as sns\n",
    "\n",
    "from sklearn.experimental import enable_iterative_imputer\n",
    "from sklearn.impute import SimpleImputer, IterativeImputer, KNNImputer\n",
    "from sklearn.preprocessing import StandardScaler, LabelEncoder, label_binarize\n",
    "from sklearn.model_selection import train_test_split, GridSearchCV\n",
    "from sklearn.pipeline import Pipeline\n",
    "from sklearn.compose import ColumnTransformer\n",
    "\n",
    "from sklearn.linear_model import LogisticRegression\n",
    "from sklearn.tree import DecisionTreeClassifier\n",
    "from sklearn.ensemble import RandomForestClassifier, GradientBoostingClassifier\n",
    "from xgboost import XGBClassifier\n",
    "\n",
    "from sklearn.metrics import (\n",
    "    f1_score, accuracy_score, precision_score, recall_score, roc_auc_score,\n",
    "    classification_report, confusion_matrix, precision_recall_curve, roc_curve\n",
    ")\n",
    "\n",
    "from imblearn.over_sampling import SMOTE\n",
    "from imblearn.pipeline import Pipeline as ImbPipeline\n",
    "\n",
    "import warnings\n",
    "warnings.filterwarnings('ignore')\n",
    "sns.set_style('whitegrid')"
   ]
  },
  {
   "cell_type": "markdown",
   "metadata": {},
   "source": [
    "## load data"
   ]
  },
  {
   "cell_type": "code",
   "execution_count": 69,
   "metadata": {},
   "outputs": [
    {
     "name": "stdout",
     "output_type": "stream",
     "text": [
      "samples: 342, features: 10\n",
      "species: {'Adelie': np.int64(0), 'Chinstrap': np.int64(1), 'Gentoo': np.int64(2)}\n"
     ]
    }
   ],
   "source": [
    "df = pd.read_csv('data_cleaned.csv')\n",
    "\n",
    "X = df.drop(columns=['Species'])\n",
    "y = df['Species']\n",
    "\n",
    "le = LabelEncoder()\n",
    "y_encoded = le.fit_transform(y)\n",
    "\n",
    "print(f\"samples: {len(df)}, features: {X.shape[1]}\")\n",
    "print(f\"species: {dict(zip(le.classes_, le.transform(le.classes_)))}\")"
   ]
  },
  {
   "cell_type": "markdown",
   "metadata": {},
   "source": [
    "## 70/30 split"
   ]
  },
  {
   "cell_type": "code",
   "execution_count": 70,
   "metadata": {},
   "outputs": [
    {
     "name": "stdout",
     "output_type": "stream",
     "text": [
      "train: 239, test: 103\n"
     ]
    }
   ],
   "source": [
    "X_train, X_test, y_train, y_test = train_test_split(\n",
    "    X, y_encoded, test_size=0.3, stratify=y_encoded, random_state=42\n",
    ")\n",
    "\n",
    "print(f\"train: {len(X_train)}, test: {len(X_test)}\")"
   ]
  },
  {
   "cell_type": "markdown",
   "metadata": {},
   "source": [
    "## define pipelines"
   ]
  },
  {
   "cell_type": "code",
   "execution_count": 71,
   "metadata": {},
   "outputs": [],
   "source": [
    "numerical_features = ['Culmen Length (mm)', 'Culmen Depth (mm)', 'Flipper Length (mm)', \n",
    "                      'Body Mass (g)', 'Delta 15 N (o/oo)', 'Delta 13 C (o/oo)']\n",
    "sex_feature = ['Sex']\n",
    "\n",
    "baseline_preprocessor = ColumnTransformer([\n",
    "    ('num', SimpleImputer(strategy='median'), numerical_features),\n",
    "    ('sex', SimpleImputer(strategy='most_frequent'), sex_feature)\n",
    "], remainder='passthrough')\n",
    "\n",
    "optimal_preprocessor = ColumnTransformer([\n",
    "    ('num', Pipeline([\n",
    "        ('imputer', IterativeImputer(random_state=42, max_iter=10)),\n",
    "        ('scaler', StandardScaler())\n",
    "    ]), numerical_features),\n",
    "    ('sex', Pipeline([\n",
    "        ('imputer', KNNImputer(n_neighbors=5)),\n",
    "        ('scaler', StandardScaler())\n",
    "    ]), sex_feature)\n",
    "], remainder='passthrough')\n",
    "\n",
    "models = {\n",
    "    'Logistic Regression': LogisticRegression(random_state=42, max_iter=1000),\n",
    "    'Decision Tree': DecisionTreeClassifier(random_state=42),\n",
    "    'Random Forest': RandomForestClassifier(random_state=42, n_estimators=100),\n",
    "    'Gradient Boosting': GradientBoostingClassifier(random_state=42, n_estimators=100),\n",
    "    'XGBoost': XGBClassifier(random_state=42, n_estimators=100, eval_metric='mlogloss')\n",
    "}\n",
    "\n",
    "param_grids = {\n",
    "    'Logistic Regression': {'classifier__C': [0.1, 1, 10], 'classifier__solver': ['lbfgs', 'liblinear']},\n",
    "    'Decision Tree': {'classifier__max_depth': [3, 5, 10, None]},\n",
    "    'Random Forest': {'classifier__n_estimators': [50, 100], 'classifier__max_depth': [5, 10, None]},\n",
    "    'Gradient Boosting': {'classifier__n_estimators': [50, 100], 'classifier__learning_rate': [0.01, 0.1]},\n",
    "    'XGBoost': {'classifier__n_estimators': [50, 100], 'classifier__learning_rate': [0.01, 0.1]}\n",
    "}"
   ]
  },
  {
   "cell_type": "markdown",
   "metadata": {},
   "source": [
    "## monte carlo cv: baseline"
   ]
  },
  {
   "cell_type": "code",
   "execution_count": 72,
   "metadata": {},
   "outputs": [
    {
     "name": "stdout",
     "output_type": "stream",
     "text": [
      "completed 20/100\n",
      "completed 40/100\n",
      "completed 60/100\n",
      "completed 80/100\n",
      "completed 100/100\n"
     ]
    }
   ],
   "source": [
    "n_iterations = 100\n",
    "baseline_results = {name: {'accuracy': [], 'precision': [], 'recall': [], 'f1': []} for name in models.keys()}\n",
    "\n",
    "for i in range(n_iterations):\n",
    "    X_train_iter, X_test_iter, y_train_iter, y_test_iter = train_test_split(\n",
    "        X, y_encoded, test_size=0.3, stratify=y_encoded, random_state=i\n",
    "    )\n",
    "    \n",
    "    for name, model in models.items():\n",
    "        pipe = Pipeline([\n",
    "            ('preprocessor', baseline_preprocessor),\n",
    "            ('classifier', model)\n",
    "        ])\n",
    "        \n",
    "        pipe.fit(X_train_iter, y_train_iter)\n",
    "        y_pred = pipe.predict(X_test_iter)\n",
    "        \n",
    "        baseline_results[name]['accuracy'].append(accuracy_score(y_test_iter, y_pred))\n",
    "        baseline_results[name]['precision'].append(precision_score(y_test_iter, y_pred, average='macro'))\n",
    "        baseline_results[name]['recall'].append(recall_score(y_test_iter, y_pred, average='macro'))\n",
    "        baseline_results[name]['f1'].append(f1_score(y_test_iter, y_pred, average='macro'))\n",
    "    \n",
    "    if (i + 1) % 20 == 0:\n",
    "        print(f\"completed {i + 1}/{n_iterations}\")\n",
    "\n",
    "baseline_summary = {name: {\n",
    "    'accuracy_mean': np.mean(scores['accuracy']),\n",
    "    'accuracy_std': np.std(scores['accuracy']),\n",
    "    'precision_mean': np.mean(scores['precision']),\n",
    "    'precision_std': np.std(scores['precision']),\n",
    "    'recall_mean': np.mean(scores['recall']),\n",
    "    'recall_std': np.std(scores['recall']),\n",
    "    'f1_mean': np.mean(scores['f1']),\n",
    "    'f1_std': np.std(scores['f1'])\n",
    "} for name, scores in baseline_results.items()}"
   ]
  },
  {
   "cell_type": "markdown",
   "metadata": {},
   "source": [
    "## baseline results"
   ]
  },
  {
   "cell_type": "code",
   "execution_count": 73,
   "metadata": {},
   "outputs": [
    {
     "name": "stdout",
     "output_type": "stream",
     "text": [
      "Logistic Regression:\n",
      "  accuracy:  0.9984 ± 0.0038\n",
      "  precision: 0.9988 ± 0.0028\n",
      "  recall:    0.9975 ± 0.0062\n",
      "  f1:        0.9981 ± 0.0046\n",
      "\n",
      "Decision Tree:\n",
      "  accuracy:  0.9645 ± 0.0164\n",
      "  precision: 0.9610 ± 0.0194\n",
      "  recall:    0.9602 ± 0.0188\n",
      "  f1:        0.9598 ± 0.0185\n",
      "\n",
      "Random Forest:\n",
      "  accuracy:  0.9916 ± 0.0083\n",
      "  precision: 0.9909 ± 0.0091\n",
      "  recall:    0.9892 ± 0.0119\n",
      "  f1:        0.9898 ± 0.0101\n",
      "\n",
      "Gradient Boosting:\n",
      "  accuracy:  0.9814 ± 0.0138\n",
      "  precision: 0.9805 ± 0.0144\n",
      "  recall:    0.9769 ± 0.0180\n",
      "  f1:        0.9783 ± 0.0159\n",
      "\n",
      "XGBoost:\n",
      "  accuracy:  0.9860 ± 0.0106\n",
      "  precision: 0.9846 ± 0.0117\n",
      "  recall:    0.9830 ± 0.0139\n",
      "  f1:        0.9835 ± 0.0123\n",
      "\n"
     ]
    }
   ],
   "source": [
    "for name, stats in baseline_summary.items():\n",
    "    print(f\"{name}:\")\n",
    "    print(f\"  accuracy:  {stats['accuracy_mean']:.4f} ± {stats['accuracy_std']:.4f}\")\n",
    "    print(f\"  precision: {stats['precision_mean']:.4f} ± {stats['precision_std']:.4f}\")\n",
    "    print(f\"  recall:    {stats['recall_mean']:.4f} ± {stats['recall_std']:.4f}\")\n",
    "    print(f\"  f1:        {stats['f1_mean']:.4f} ± {stats['f1_std']:.4f}\")\n",
    "    print()"
   ]
  },
  {
   "cell_type": "markdown",
   "metadata": {},
   "source": [
    "## monte carlo cv: optimal (no tuning)"
   ]
  },
  {
   "cell_type": "code",
   "execution_count": 74,
   "metadata": {},
   "outputs": [
    {
     "name": "stdout",
     "output_type": "stream",
     "text": [
      "completed 20/100\n",
      "completed 40/100\n",
      "completed 60/100\n",
      "completed 80/100\n",
      "completed 100/100\n"
     ]
    }
   ],
   "source": [
    "optimal_no_tuning_results = {name: {'accuracy': [], 'precision': [], 'recall': [], 'f1': []} for name in models.keys()}\n",
    "\n",
    "for i in range(n_iterations):\n",
    "    X_train_iter, X_test_iter, y_train_iter, y_test_iter = train_test_split(\n",
    "        X, y_encoded, test_size=0.3, stratify=y_encoded, random_state=i\n",
    "    )\n",
    "    \n",
    "    for name, model in models.items():\n",
    "        pipe = ImbPipeline([\n",
    "            ('preprocessor', optimal_preprocessor),\n",
    "            ('smote', SMOTE(random_state=42, k_neighbors=5)),\n",
    "            ('classifier', model)\n",
    "        ])\n",
    "        \n",
    "        pipe.fit(X_train_iter, y_train_iter)\n",
    "        y_pred = pipe.predict(X_test_iter)\n",
    "        \n",
    "        optimal_no_tuning_results[name]['accuracy'].append(accuracy_score(y_test_iter, y_pred))\n",
    "        optimal_no_tuning_results[name]['precision'].append(precision_score(y_test_iter, y_pred, average='macro'))\n",
    "        optimal_no_tuning_results[name]['recall'].append(recall_score(y_test_iter, y_pred, average='macro'))\n",
    "        optimal_no_tuning_results[name]['f1'].append(f1_score(y_test_iter, y_pred, average='macro'))\n",
    "    \n",
    "    if (i + 1) % 20 == 0:\n",
    "        print(f\"completed {i + 1}/{n_iterations}\")\n",
    "\n",
    "optimal_no_tuning_summary = {}\n",
    "for name in models.keys():\n",
    "    scores = optimal_no_tuning_results[name]\n",
    "    optimal_no_tuning_summary[name] = {\n",
    "        'accuracy_mean': np.mean(scores['accuracy']),\n",
    "        'accuracy_std': np.std(scores['accuracy']),\n",
    "        'precision_mean': np.mean(scores['precision']),\n",
    "        'precision_std': np.std(scores['precision']),\n",
    "        'recall_mean': np.mean(scores['recall']),\n",
    "        'recall_std': np.std(scores['recall']),\n",
    "        'f1_mean': np.mean(scores['f1']),\n",
    "        'f1_std': np.std(scores['f1'])\n",
    "    }"
   ]
  },
  {
   "cell_type": "markdown",
   "metadata": {},
   "source": [
    "## optimal (no tuning) results"
   ]
  },
  {
   "cell_type": "code",
   "execution_count": 75,
   "metadata": {},
   "outputs": [
    {
     "name": "stdout",
     "output_type": "stream",
     "text": [
      "Logistic Regression:\n",
      "  accuracy:  0.9974 ± 0.0043\n",
      "  precision: 0.9959 ± 0.0067\n",
      "  recall:    0.9980 ± 0.0033\n",
      "  f1:        0.9969 ± 0.0051\n",
      "\n",
      "Decision Tree:\n",
      "  accuracy:  0.9671 ± 0.0139\n",
      "  precision: 0.9634 ± 0.0171\n",
      "  recall:    0.9639 ± 0.0146\n",
      "  f1:        0.9630 ± 0.0151\n",
      "\n",
      "Random Forest:\n",
      "  accuracy:  0.9894 ± 0.0103\n",
      "  precision: 0.9891 ± 0.0118\n",
      "  recall:    0.9858 ± 0.0138\n",
      "  f1:        0.9872 ± 0.0124\n",
      "\n",
      "Gradient Boosting:\n",
      "  accuracy:  0.9840 ± 0.0123\n",
      "  precision: 0.9826 ± 0.0142\n",
      "  recall:    0.9803 ± 0.0152\n",
      "  f1:        0.9811 ± 0.0143\n",
      "\n",
      "XGBoost:\n",
      "  accuracy:  0.9873 ± 0.0100\n",
      "  precision: 0.9856 ± 0.0115\n",
      "  recall:    0.9848 ± 0.0130\n",
      "  f1:        0.9849 ± 0.0117\n",
      "\n"
     ]
    }
   ],
   "source": [
    "for name, stats in optimal_no_tuning_summary.items():\n",
    "    print(f\"{name}:\")\n",
    "    print(f\"  accuracy:  {stats['accuracy_mean']:.4f} ± {stats['accuracy_std']:.4f}\")\n",
    "    print(f\"  precision: {stats['precision_mean']:.4f} ± {stats['precision_std']:.4f}\")\n",
    "    print(f\"  recall:    {stats['recall_mean']:.4f} ± {stats['recall_std']:.4f}\")\n",
    "    print(f\"  f1:        {stats['f1_mean']:.4f} ± {stats['f1_std']:.4f}\")\n",
    "    print()"
   ]
  },
  {
   "cell_type": "markdown",
   "metadata": {},
   "source": [
    "## monte carlo cv: optimal (with tuning)"
   ]
  },
  {
   "cell_type": "code",
   "execution_count": 76,
   "metadata": {},
   "outputs": [
    {
     "name": "stdout",
     "output_type": "stream",
     "text": [
      "completed 20/100\n",
      "completed 40/100\n",
      "completed 60/100\n",
      "completed 80/100\n",
      "completed 100/100\n"
     ]
    }
   ],
   "source": [
    "optimal_with_tuning_results = {name: {'accuracy': [], 'precision': [], 'recall': [], 'f1': []} for name in models.keys()}\n",
    "\n",
    "for i in range(n_iterations):\n",
    "    X_train_iter, X_test_iter, y_train_iter, y_test_iter = train_test_split(\n",
    "        X, y_encoded, test_size=0.3, stratify=y_encoded, random_state=i\n",
    "    )\n",
    "    \n",
    "    for name, model in models.items():\n",
    "        pipe = ImbPipeline([\n",
    "            ('preprocessor', optimal_preprocessor),\n",
    "            ('smote', SMOTE(random_state=42, k_neighbors=5)),\n",
    "            ('classifier', model)\n",
    "        ])\n",
    "        \n",
    "        grid = GridSearchCV(pipe, param_grids[name], cv=3, scoring='f1_macro', n_jobs=-1)\n",
    "        grid.fit(X_train_iter, y_train_iter)\n",
    "        y_pred = grid.predict(X_test_iter)\n",
    "        \n",
    "        optimal_with_tuning_results[name]['accuracy'].append(accuracy_score(y_test_iter, y_pred))\n",
    "        optimal_with_tuning_results[name]['precision'].append(precision_score(y_test_iter, y_pred, average='macro'))\n",
    "        optimal_with_tuning_results[name]['recall'].append(recall_score(y_test_iter, y_pred, average='macro'))\n",
    "        optimal_with_tuning_results[name]['f1'].append(f1_score(y_test_iter, y_pred, average='macro'))\n",
    "    \n",
    "    if (i + 1) % 20 == 0:\n",
    "        print(f\"completed {i + 1}/{n_iterations}\")\n",
    "\n",
    "optimal_with_tuning_summary = {}\n",
    "for name in models.keys():\n",
    "    scores = optimal_with_tuning_results[name]\n",
    "    optimal_with_tuning_summary[name] = {\n",
    "        'accuracy_mean': np.mean(scores['accuracy']),\n",
    "        'accuracy_std': np.std(scores['accuracy']),\n",
    "        'precision_mean': np.mean(scores['precision']),\n",
    "        'precision_std': np.std(scores['precision']),\n",
    "        'recall_mean': np.mean(scores['recall']),\n",
    "        'recall_std': np.std(scores['recall']),\n",
    "        'f1_mean': np.mean(scores['f1']),\n",
    "        'f1_std': np.std(scores['f1'])\n",
    "    }"
   ]
  },
  {
   "cell_type": "markdown",
   "metadata": {},
   "source": [
    "## optimal (with tuning) results"
   ]
  },
  {
   "cell_type": "code",
   "execution_count": 77,
   "metadata": {},
   "outputs": [
    {
     "name": "stdout",
     "output_type": "stream",
     "text": [
      "Logistic Regression:\n",
      "  accuracy:  0.9960 ± 0.0058\n",
      "  precision: 0.9939 ± 0.0089\n",
      "  recall:    0.9970 ± 0.0045\n",
      "  f1:        0.9953 ± 0.0069\n",
      "\n",
      "Decision Tree:\n",
      "  accuracy:  0.9656 ± 0.0162\n",
      "  precision: 0.9621 ± 0.0189\n",
      "  recall:    0.9632 ± 0.0176\n",
      "  f1:        0.9618 ± 0.0175\n",
      "\n",
      "Random Forest:\n",
      "  accuracy:  0.9879 ± 0.0118\n",
      "  precision: 0.9871 ± 0.0139\n",
      "  recall:    0.9843 ± 0.0151\n",
      "  f1:        0.9855 ± 0.0141\n",
      "\n",
      "Gradient Boosting:\n",
      "  accuracy:  0.9816 ± 0.0141\n",
      "  precision: 0.9793 ± 0.0176\n",
      "  recall:    0.9780 ± 0.0165\n",
      "  f1:        0.9783 ± 0.0166\n",
      "\n",
      "XGBoost:\n",
      "  accuracy:  0.9842 ± 0.0144\n",
      "  precision: 0.9824 ± 0.0160\n",
      "  recall:    0.9817 ± 0.0168\n",
      "  f1:        0.9817 ± 0.0160\n",
      "\n"
     ]
    }
   ],
   "source": [
    "for name, stats in optimal_with_tuning_summary.items():\n",
    "    print(f\"{name}:\")\n",
    "    print(f\"  accuracy:  {stats['accuracy_mean']:.4f} ± {stats['accuracy_std']:.4f}\")\n",
    "    print(f\"  precision: {stats['precision_mean']:.4f} ± {stats['precision_std']:.4f}\")\n",
    "    print(f\"  recall:    {stats['recall_mean']:.4f} ± {stats['recall_std']:.4f}\")\n",
    "    print(f\"  f1:        {stats['f1_mean']:.4f} ± {stats['f1_std']:.4f}\")\n",
    "    print()"
   ]
  },
  {
   "cell_type": "markdown",
   "metadata": {},
   "source": [
    "## train final model"
   ]
  },
  {
   "cell_type": "code",
   "execution_count": 78,
   "metadata": {},
   "outputs": [
    {
     "name": "stdout",
     "output_type": "stream",
     "text": [
      "best model: Logistic Regression\n",
      "best params: {'classifier__C': 10, 'classifier__solver': 'lbfgs'}\n",
      "accuracy: 1.0000\n",
      "precision: 1.0000\n",
      "recall: 1.0000\n",
      "f1: 1.0000\n"
     ]
    }
   ],
   "source": [
    "best_model_name = comparison_df.iloc[0]['model']\n",
    "best_model = models[best_model_name]\n",
    "\n",
    "final_pipe = ImbPipeline([\n",
    "    ('preprocessor', optimal_preprocessor),\n",
    "    ('smote', SMOTE(random_state=42, k_neighbors=5)),\n",
    "    ('classifier', best_model)\n",
    "])\n",
    "\n",
    "grid = GridSearchCV(final_pipe, param_grids[best_model_name], cv=5, scoring='f1_macro', n_jobs=-1)\n",
    "grid.fit(X_train, y_train)\n",
    "\n",
    "y_pred = grid.predict(X_test)\n",
    "y_pred_proba = grid.predict_proba(X_test)\n",
    "\n",
    "print(f\"best model: {best_model_name}\")\n",
    "print(f\"best params: {grid.best_params_}\")\n",
    "print(f\"accuracy: {accuracy_score(y_test, y_pred):.4f}\")\n",
    "print(f\"precision: {precision_score(y_test, y_pred, average='macro'):.4f}\")\n",
    "print(f\"recall: {recall_score(y_test, y_pred, average='macro'):.4f}\")\n",
    "print(f\"f1: {f1_score(y_test, y_pred, average='macro'):.4f}\")"
   ]
  },
  {
   "cell_type": "markdown",
   "metadata": {},
   "source": [
    "## classification report"
   ]
  },
  {
   "cell_type": "code",
   "execution_count": 79,
   "metadata": {},
   "outputs": [
    {
     "name": "stdout",
     "output_type": "stream",
     "text": [
      "              precision    recall  f1-score   support\n",
      "\n",
      "      Adelie       1.00      1.00      1.00        45\n",
      "   Chinstrap       1.00      1.00      1.00        21\n",
      "      Gentoo       1.00      1.00      1.00        37\n",
      "\n",
      "    accuracy                           1.00       103\n",
      "   macro avg       1.00      1.00      1.00       103\n",
      "weighted avg       1.00      1.00      1.00       103\n",
      "\n"
     ]
    }
   ],
   "source": [
    "print(classification_report(y_test, y_pred, target_names=le.classes_))"
   ]
  },
  {
   "cell_type": "markdown",
   "metadata": {},
   "source": [
    "## confusion matrix"
   ]
  },
  {
   "cell_type": "code",
   "execution_count": 80,
   "metadata": {},
   "outputs": [
    {
     "data": {
      "image/png": "[encoded data removed]",
      "text/plain": [
       "<Figure size 800x600 with 2 Axes>"
      ]
     },
     "metadata": {},
     "output_type": "display_data"
    }
   ],
   "source": [
    "cm = confusion_matrix(y_test, y_pred)\n",
    "cm_pct = cm.astype('float') / cm.sum(axis=1)[:, np.newaxis] * 100\n",
    "\n",
    "fig, ax = plt.subplots(figsize=(8, 6))\n",
    "sns.heatmap(cm_pct, annot=True, fmt='.1f', cmap='Blues',\n",
    "            xticklabels=le.classes_, yticklabels=le.classes_, ax=ax)\n",
    "ax.set_xlabel('predicted')\n",
    "ax.set_ylabel('true')\n",
    "ax.set_title(f'confusion matrix: {best_model_name}')\n",
    "plt.tight_layout()\n",
    "plt.savefig('confusion_matrix_best_model.png', dpi=150)\n",
    "plt.show()"
   ]
  },
  {
   "cell_type": "markdown",
   "metadata": {},
   "source": [
    "## roc curves"
   ]
  },
  {
   "cell_type": "code",
   "execution_count": 81,
   "metadata": {},
   "outputs": [
    {
     "data": {
      "image/png": "[encoded data removed]",
      "text/plain": [
       "<Figure size 800x600 with 1 Axes>"
      ]
     },
     "metadata": {},
     "output_type": "display_data"
    }
   ],
   "source": [
    "y_test_bin = label_binarize(y_test, classes=[0, 1, 2])\n",
    "\n",
    "fig, ax = plt.subplots(figsize=(8, 6))\n",
    "\n",
    "for i, species in enumerate(le.classes_):\n",
    "    fpr, tpr, _ = roc_curve(y_test_bin[:, i], y_pred_proba[:, i])\n",
    "    auc = roc_auc_score(y_test_bin[:, i], y_pred_proba[:, i])\n",
    "    ax.plot(fpr, tpr, label=f'{species} (AUC = {auc:.3f})')\n",
    "\n",
    "ax.plot([0, 1], [0, 1], 'k--', label='random')\n",
    "ax.set_xlabel('false positive rate')\n",
    "ax.set_ylabel('true positive rate')\n",
    "ax.set_title('roc curves')\n",
    "ax.legend()\n",
    "ax.grid(alpha=0.3)\n",
    "plt.tight_layout()\n",
    "plt.savefig('roc_curves.png', dpi=150)\n",
    "plt.show()"
   ]
  },
  {
   "cell_type": "markdown",
   "metadata": {},
   "source": [
    "## precision-recall curves"
   ]
  },
  {
   "cell_type": "code",
   "execution_count": 82,
   "metadata": {
    "scrolled": true
   },
   "outputs": [
    {
     "data": {
      "image/png": "[encoded data removed]",
      "text/plain": [
       "<Figure size 800x600 with 1 Axes>"
      ]
     },
     "metadata": {},
     "output_type": "display_data"
    }
   ],
   "source": [
    "fig, ax = plt.subplots(figsize=(8, 6))\n",
    "\n",
    "for i, species in enumerate(le.classes_):\n",
    "    precision, recall, _ = precision_recall_curve(y_test_bin[:, i], y_pred_proba[:, i])\n",
    "    ax.plot(recall, precision, label=species)\n",
    "\n",
    "ax.set_xlabel('recall')\n",
    "ax.set_ylabel('precision')\n",
    "ax.set_title('precision-recall curves')\n",
    "ax.legend()\n",
    "ax.grid(alpha=0.3)\n",
    "plt.tight_layout()\n",
    "plt.savefig('pr_curves.png', dpi=150)\n",
    "plt.show()"
   ]
  },
  {
   "cell_type": "markdown",
   "metadata": {},
   "source": [
    "## save best model"
   ]
  },
  {
   "cell_type": "code",
   "execution_count": 83,
   "metadata": {},
   "outputs": [
    {
     "name": "stdout",
     "output_type": "stream",
     "text": [
      "saved Logistic Regression pipeline\n",
      "saved train/test split\n"
     ]
    }
   ],
   "source": [
    "import joblib\n",
    "\n",
    "joblib.dump(grid, 'best_model.pkl')\n",
    "joblib.dump(le, 'label_encoder.pkl')\n",
    "joblib.dump({'X_train': X_train, 'X_test': X_test, 'y_train': y_train, 'y_test': y_test}, 'train_test_split.pkl')\n",
    "print(f\"saved {best_model_name} pipeline\")\n",
    "print(f\"saved train/test split\")"
   ]
  },
  {
   "cell_type": "code",
   "execution_count": 84,
   "metadata": {},
   "outputs": [
    {
     "name": "stdout",
     "output_type": "stream",
     "text": [
      "total misclassifications: 0/103 (0.00%)\n",
      "\n",
      "no misclassifications - perfect predictions!\n"
     ]
    }
   ],
   "source": [
    "misclassified = y_test != y_pred\n",
    "num_errors = misclassified.sum()\n",
    "\n",
    "print(f\"total misclassifications: {num_errors}/{len(y_test)} ({100*num_errors/len(y_test):.2f}%)\")\n",
    "\n",
    "if num_errors > 0:\n",
    "    print(f\"\\nmisclassified samples:\")\n",
    "    for idx in np.where(misclassified)[0]:\n",
    "        print(f\"\\n  sample {idx}:\")\n",
    "        print(f\"    true: {le.classes_[y_test[idx]]}\")\n",
    "        print(f\"    predicted: {le.classes_[y_pred[idx]]}\")\n",
    "        print(f\"    probabilities: {dict(zip(le.classes_, y_pred_proba[idx]))}\")\n",
    "        print(f\"    raw features (NaN = imputed):\")\n",
    "        for col in X.columns[:7]:\n",
    "            val = X_test.iloc[idx][col]\n",
    "            if pd.isna(val):\n",
    "                print(f\"      {col}: NaN\")\n",
    "            else:\n",
    "                print(f\"      {col}: {val:.2f}\")\n",
    "else:\n",
    "    print(\"\\nno misclassifications - perfect predictions!\")"
   ]
  },
  {
   "cell_type": "markdown",
   "metadata": {},
   "source": [
    "## misclassified samples"
   ]
  },
  {
   "cell_type": "markdown",
   "metadata": {},
   "source": [
    "## results analysis\n",
    "\n"
   ]
  }
 ],
 "metadata": {
  "kernelspec": {
   "display_name": "Python 3 (ipykernel)",
   "language": "python",
   "name": "python3"
  },
  "language_info": {
   "codemirror_mode": {
    "name": "ipython",
    "version": 3
   },
   "file_extension": ".py",
   "mimetype": "text/x-python",
   "name": "python",
   "nbconvert_exporter": "python",
   "pygments_lexer": "ipython3",
   "version": "3.13.7"
  }
 },
 "nbformat": 4,
 "nbformat_minor": 4
}
