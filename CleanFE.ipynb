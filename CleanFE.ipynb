{
 "cells": [
  {
   "cell_type": "markdown",
   "id": "b3vj9umjprp",
   "metadata": {},
   "source": [
    "# CleanFE: Data Cleaning and Feature Engineering\n",
    "\n",
    "cleaning the data based on EDA findings. "
   ]
  },
  {
   "cell_type": "code",
   "execution_count": 1,
   "id": "92tobt25obj",
   "metadata": {},
   "outputs": [],
   "source": [
    "import pandas as pd\n",
    "import numpy as np\n",
    "import matplotlib.pyplot as plt\n",
    "import seaborn as sns\n",
    "import warnings\n",
    "warnings.filterwarnings('ignore')\n",
    "\n",
    "from sklearn.experimental import enable_iterative_imputer\n",
    "from sklearn.impute import IterativeImputer, KNNImputer\n",
    "from sklearn.preprocessing import OneHotEncoder\n",
    "from sklearn.ensemble import IsolationForest\n",
    "\n",
    "sns.set_style(\"whitegrid\")"
   ]
  },
  {
   "cell_type": "markdown",
   "id": "nlb5dbrhlat",
   "metadata": {},
   "source": [
    "## Load Data"
   ]
  },
  {
   "cell_type": "code",
   "execution_count": 2,
   "id": "cup462gj1k5",
   "metadata": {},
   "outputs": [
    {
     "name": "stdout",
     "output_type": "stream",
     "text": [
      "<class 'pandas.core.frame.DataFrame'>\n",
      "RangeIndex: 344 entries, 0 to 343\n",
      "Data columns (total 17 columns):\n",
      " #   Column               Non-Null Count  Dtype  \n",
      "---  ------               --------------  -----  \n",
      " 0   studyName            344 non-null    object \n",
      " 1   Sample Number        344 non-null    int64  \n",
      " 2   Species              344 non-null    object \n",
      " 3   Region               344 non-null    object \n",
      " 4   Island               344 non-null    object \n",
      " 5   Stage                344 non-null    object \n",
      " 6   Individual ID        344 non-null    object \n",
      " 7   Clutch Completion    344 non-null    object \n",
      " 8   Date Egg             344 non-null    object \n",
      " 9   Culmen Length (mm)   342 non-null    float64\n",
      " 10  Culmen Depth (mm)    342 non-null    float64\n",
      " 11  Flipper Length (mm)  342 non-null    float64\n",
      " 12  Body Mass (g)        342 non-null    float64\n",
      " 13  Sex                  334 non-null    object \n",
      " 14  Delta 15 N (o/oo)    330 non-null    float64\n",
      " 15  Delta 13 C (o/oo)    331 non-null    float64\n",
      " 16  Comments             26 non-null     object \n",
      "dtypes: float64(6), int64(1), object(10)\n",
      "memory usage: 45.8+ KB\n"
     ]
    }
   ],
   "source": [
    "df = pd.read_csv('data.csv')\n",
    "\n",
    "df['Species'] = df['Species'].map({\n",
    "    'Adelie Penguin (Pygoscelis adeliae)': 'Adelie',\n",
    "    'Gentoo penguin (Pygoscelis papua)': 'Gentoo',\n",
    "    'Chinstrap penguin (Pygoscelis antarctica)': 'Chinstrap'\n",
    "})\n",
    "\n",
    "morph_features = ['Culmen Length (mm)', 'Culmen Depth (mm)', 'Flipper Length (mm)', 'Body Mass (g)']\n",
    "isotope_features = ['Delta 15 N (o/oo)', 'Delta 13 C (o/oo)']\n",
    "\n",
    "df.info()"
   ]
  },
  {
   "cell_type": "markdown",
   "id": "ayr4db32skb",
   "metadata": {},
   "source": [
    "## Data Cleaning\n",
    "\n",
    "from EDA:\n",
    "- sex has '.' data entry error → replace with NaN\n",
    "- drop useless columns: region, stage, studyName, date egg, sample number, comments, clutch completion, Individual ID"
   ]
  },
  {
   "cell_type": "code",
   "execution_count": 3,
   "id": "nvxdwqviykl",
   "metadata": {},
   "outputs": [
    {
     "name": "stdout",
     "output_type": "stream",
     "text": [
      "<class 'pandas.core.frame.DataFrame'>\n",
      "RangeIndex: 344 entries, 0 to 343\n",
      "Data columns (total 9 columns):\n",
      " #   Column               Non-Null Count  Dtype  \n",
      "---  ------               --------------  -----  \n",
      " 0   Species              344 non-null    object \n",
      " 1   Island               344 non-null    object \n",
      " 2   Culmen Length (mm)   342 non-null    float64\n",
      " 3   Culmen Depth (mm)    342 non-null    float64\n",
      " 4   Flipper Length (mm)  342 non-null    float64\n",
      " 5   Body Mass (g)        342 non-null    float64\n",
      " 6   Sex                  333 non-null    object \n",
      " 7   Delta 15 N (o/oo)    330 non-null    float64\n",
      " 8   Delta 13 C (o/oo)    331 non-null    float64\n",
      "dtypes: float64(6), object(3)\n",
      "memory usage: 24.3+ KB\n"
     ]
    }
   ],
   "source": [
    "df['Sex'] = df['Sex'].replace('.', np.nan)\n",
    "\n",
    "columns_to_drop = ['Region', 'Stage', 'studyName', 'Date Egg', 'Sample Number', 'Comments', 'Clutch Completion', 'Individual ID']\n",
    "df = df.drop(columns=columns_to_drop)\n",
    "\n",
    "df.info()"
   ]
  },
  {
   "cell_type": "markdown",
   "id": "77ehp969jg",
   "metadata": {},
   "source": [
    "## Feature Encoding\n",
    "\n",
    "encode categorical features before saving.\n",
    "no imputation here - that will happen in TrainTune AFTER train/test split to prevent data leakage."
   ]
  },
  {
   "cell_type": "code",
   "execution_count": 4,
   "id": "qr1sqr74u8q",
   "metadata": {},
   "outputs": [
    {
     "name": "stdout",
     "output_type": "stream",
     "text": [
      "<class 'pandas.core.frame.DataFrame'>\n",
      "RangeIndex: 344 entries, 0 to 343\n",
      "Data columns (total 11 columns):\n",
      " #   Column               Non-Null Count  Dtype  \n",
      "---  ------               --------------  -----  \n",
      " 0   Species              344 non-null    object \n",
      " 1   Culmen Length (mm)   342 non-null    float64\n",
      " 2   Culmen Depth (mm)    342 non-null    float64\n",
      " 3   Flipper Length (mm)  342 non-null    float64\n",
      " 4   Body Mass (g)        342 non-null    float64\n",
      " 5   Sex                  333 non-null    float64\n",
      " 6   Delta 15 N (o/oo)    330 non-null    float64\n",
      " 7   Delta 13 C (o/oo)    331 non-null    float64\n",
      " 8   Island_Biscoe        344 non-null    float64\n",
      " 9   Island_Dream         344 non-null    float64\n",
      " 10  Island_Torgersen     344 non-null    float64\n",
      "dtypes: float64(10), object(1)\n",
      "memory usage: 29.7+ KB\n"
     ]
    }
   ],
   "source": [
    "# Encode Island\n",
    "island_encoder = OneHotEncoder(sparse_output=False, drop=None)\n",
    "island_encoded = island_encoder.fit_transform(df[['Island']])\n",
    "island_columns = [f'Island_{island}' for island in island_encoder.categories_[0]]\n",
    "island_df = pd.DataFrame(island_encoded, columns=island_columns, index=df.index)\n",
    "df = pd.concat([df, island_df], axis=1)\n",
    "df = df.drop(columns=['Island'])\n",
    "\n",
    "# Encode Sex to 1 and 0\n",
    "df['Sex'] = df['Sex'].map({'MALE': 1, 'FEMALE': 0})\n",
    "\n",
    "df.info()"
   ]
  },
  {
   "cell_type": "code",
   "execution_count": 5,
   "id": "jhccvdjlbko",
   "metadata": {},
   "outputs": [
    {
     "name": "stdout",
     "output_type": "stream",
     "text": [
      "samples with ALL key features missing: 2\n",
      "\n",
      "removing 2 samples with all key features missing\n",
      "    Species  Culmen Length (mm)  Culmen Depth (mm)  Flipper Length (mm)  \\\n",
      "3    Adelie                 NaN                NaN                  NaN   \n",
      "339  Gentoo                 NaN                NaN                  NaN   \n",
      "\n",
      "     Body Mass (g)  Sex  \n",
      "3              NaN  NaN  \n",
      "339            NaN  NaN  \n",
      "\n",
      "final dataset: 342 samples\n",
      "<class 'pandas.core.frame.DataFrame'>\n",
      "RangeIndex: 342 entries, 0 to 341\n",
      "Data columns (total 11 columns):\n",
      " #   Column               Non-Null Count  Dtype  \n",
      "---  ------               --------------  -----  \n",
      " 0   Species              342 non-null    object \n",
      " 1   Culmen Length (mm)   342 non-null    float64\n",
      " 2   Culmen Depth (mm)    342 non-null    float64\n",
      " 3   Flipper Length (mm)  342 non-null    float64\n",
      " 4   Body Mass (g)        342 non-null    float64\n",
      " 5   Sex                  333 non-null    float64\n",
      " 6   Delta 15 N (o/oo)    330 non-null    float64\n",
      " 7   Delta 13 C (o/oo)    331 non-null    float64\n",
      " 8   Island_Biscoe        342 non-null    float64\n",
      " 9   Island_Dream         342 non-null    float64\n",
      " 10  Island_Torgersen     342 non-null    float64\n",
      "dtypes: float64(10), object(1)\n",
      "memory usage: 29.5+ KB\n"
     ]
    }
   ],
   "source": [
    "key_features = ['Culmen Length (mm)', 'Culmen Depth (mm)', 'Flipper Length (mm)', 'Body Mass (g)', 'Sex']\n",
    "\n",
    "missing_counts = df[key_features].isna().sum(axis=1)\n",
    "all_missing = missing_counts == len(key_features)\n",
    "\n",
    "print(f\"samples with ALL key features missing: {all_missing.sum()}\")\n",
    "\n",
    "if all_missing.sum() > 0:\n",
    "    print(f\"\\nremoving {all_missing.sum()} samples with all key features missing\")\n",
    "    print(df[all_missing][['Species'] + key_features])\n",
    "    df = df[~all_missing].reset_index(drop=True)\n",
    "\n",
    "print(f\"\\nfinal dataset: {len(df)} samples\")\n",
    "df.info()"
   ]
  },
  {
   "cell_type": "markdown",
   "id": "a3771b59-7168-46ae-8ec8-ae9676f9a328",
   "metadata": {},
   "source": [
    "## Save Cleaned Data\n",
    "\n",
    "ready for TrainTune:\n",
    "- all 344 unique penguins\n",
    "- categorical features encoded\n",
    "- missing values NOT imputed yet (will happen after split to prevent leakage)"
   ]
  },
  {
   "cell_type": "markdown",
   "id": "zn1egyuhz1",
   "metadata": {},
   "source": [
    "## Remove samples with too many missing values\n",
    "\n",
    "samples with all morphological features missing cannot be used"
   ]
  },
  {
   "cell_type": "code",
   "execution_count": 6,
   "id": "3ya7fkps6k6",
   "metadata": {},
   "outputs": [
    {
     "name": "stdout",
     "output_type": "stream",
     "text": [
      "<class 'pandas.core.frame.DataFrame'>\n",
      "RangeIndex: 342 entries, 0 to 341\n",
      "Data columns (total 11 columns):\n",
      " #   Column               Non-Null Count  Dtype  \n",
      "---  ------               --------------  -----  \n",
      " 0   Species              342 non-null    object \n",
      " 1   Culmen Length (mm)   342 non-null    float64\n",
      " 2   Culmen Depth (mm)    342 non-null    float64\n",
      " 3   Flipper Length (mm)  342 non-null    float64\n",
      " 4   Body Mass (g)        342 non-null    float64\n",
      " 5   Sex                  333 non-null    float64\n",
      " 6   Delta 15 N (o/oo)    330 non-null    float64\n",
      " 7   Delta 13 C (o/oo)    331 non-null    float64\n",
      " 8   Island_Biscoe        342 non-null    float64\n",
      " 9   Island_Dream         342 non-null    float64\n",
      " 10  Island_Torgersen     342 non-null    float64\n",
      "dtypes: float64(10), object(1)\n",
      "memory usage: 29.5+ KB\n"
     ]
    }
   ],
   "source": [
    "df.to_csv('data_cleaned.csv', index=False)\n",
    "df.info()"
   ]
  }
 ],
 "metadata": {
  "kernelspec": {
   "display_name": "Python 3 (ipykernel)",
   "language": "python",
   "name": "python3"
  },
  "language_info": {
   "codemirror_mode": {
    "name": "ipython",
    "version": 3
   },
   "file_extension": ".py",
   "mimetype": "text/x-python",
   "name": "python",
   "nbconvert_exporter": "python",
   "pygments_lexer": "ipython3",
   "version": "3.13.7"
  }
 },
 "nbformat": 4,
 "nbformat_minor": 5
}
