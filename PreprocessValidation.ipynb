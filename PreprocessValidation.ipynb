{
 "cells": [
  {
   "cell_type": "markdown",
   "metadata": {},
   "source": [
    "# Preprocessing Validation: 5/95 Stress Test\n",
    "\n",
    "stress testing preprocessing with extreme 5/95 split using sklearn pipelines and monte carlo cv"
   ]
  },
  {
   "cell_type": "code",
   "execution_count": 1,
   "metadata": {},
   "outputs": [],
   "source": [
    "import pandas as pd\n",
    "import numpy as np\n",
    "import matplotlib.pyplot as plt\n",
    "import seaborn as sns\n",
    "\n",
    "from sklearn.experimental import enable_iterative_imputer\n",
    "from sklearn.impute import SimpleImputer, IterativeImputer, KNNImputer\n",
    "from sklearn.preprocessing import StandardScaler, LabelEncoder, FunctionTransformer\n",
    "from sklearn.model_selection import train_test_split, GridSearchCV\n",
    "from sklearn.pipeline import Pipeline\n",
    "from sklearn.compose import ColumnTransformer\n",
    "\n",
    "from sklearn.linear_model import LogisticRegression\n",
    "from sklearn.tree import DecisionTreeClassifier\n",
    "from sklearn.ensemble import RandomForestClassifier, GradientBoostingClassifier\n",
    "from xgboost import XGBClassifier\n",
    "\n",
    "from sklearn.metrics import f1_score, accuracy_score, precision_score, recall_score\n",
    "\n",
    "from imblearn.over_sampling import SMOTE\n",
    "from imblearn.pipeline import Pipeline as ImbPipeline\n",
    "\n",
    "import warnings\n",
    "warnings.filterwarnings('ignore')\n",
    "sns.set_style('whitegrid')"
   ]
  },
  {
   "cell_type": "markdown",
   "metadata": {},
   "source": [
    "## load data"
   ]
  },
  {
   "cell_type": "code",
   "execution_count": 2,
   "metadata": {},
   "outputs": [
    {
     "name": "stdout",
     "output_type": "stream",
     "text": [
      "samples: 344, features: 10\n",
      "missing: 46\n"
     ]
    }
   ],
   "source": [
    "df = pd.read_csv('data_cleaned.csv')\n",
    "\n",
    "X = df.drop(columns=['Species'])\n",
    "y = df['Species']\n",
    "\n",
    "le = LabelEncoder()\n",
    "y_encoded = le.fit_transform(y)\n",
    "\n",
    "print(f\"samples: {len(df)}, features: {X.shape[1]}\")\n",
    "print(f\"missing: {df.isna().sum().sum()}\")"
   ]
  },
  {
   "cell_type": "markdown",
   "metadata": {},
   "source": [
    "## define pipelines"
   ]
  },
  {
   "cell_type": "code",
   "execution_count": 3,
   "metadata": {},
   "outputs": [],
   "source": [
    "numerical_features = ['Culmen Length (mm)', 'Culmen Depth (mm)', 'Flipper Length (mm)', \n",
    "                      'Body Mass (g)', 'Delta 15 N (o/oo)', 'Delta 13 C (o/oo)']\n",
    "sex_feature = ['Sex']\n",
    "island_features = ['Island_Biscoe', 'Island_Dream', 'Island_Torgersen']\n",
    "\n",
    "baseline_preprocessor = ColumnTransformer([\n",
    "    ('num', SimpleImputer(strategy='median'), numerical_features),\n",
    "    ('sex', SimpleImputer(strategy='most_frequent'), sex_feature)\n",
    "], remainder='passthrough')\n",
    "\n",
    "optimal_preprocessor = ColumnTransformer([\n",
    "    ('num', Pipeline([\n",
    "        ('imputer', IterativeImputer(random_state=42, max_iter=10)),\n",
    "        ('scaler', StandardScaler())\n",
    "    ]), numerical_features),\n",
    "    ('sex', Pipeline([\n",
    "        ('imputer', KNNImputer(n_neighbors=5)),\n",
    "        ('scaler', StandardScaler())\n",
    "    ]), sex_feature)\n",
    "], remainder='passthrough')\n",
    "\n",
    "models = {\n",
    "    'Logistic Regression': LogisticRegression(random_state=42, max_iter=1000),\n",
    "    'Decision Tree': DecisionTreeClassifier(random_state=42),\n",
    "    'Random Forest': RandomForestClassifier(random_state=42, n_estimators=100),\n",
    "    'Gradient Boosting': GradientBoostingClassifier(random_state=42, n_estimators=100),\n",
    "    'XGBoost': XGBClassifier(random_state=42, n_estimators=100, eval_metric='mlogloss')\n",
    "}"
   ]
  },
  {
   "cell_type": "markdown",
   "metadata": {},
   "source": [
    "## monte carlo cv: baseline"
   ]
  },
  {
   "cell_type": "code",
   "execution_count": 4,
   "metadata": {},
   "outputs": [
    {
     "name": "stdout",
     "output_type": "stream",
     "text": [
      "completed 20/100\n",
      "completed 40/100\n",
      "completed 60/100\n",
      "completed 80/100\n",
      "completed 100/100\n"
     ]
    }
   ],
   "source": [
    "n_iterations = 100\n",
    "baseline_results = {name: {'accuracy': [], 'precision': [], 'recall': [], 'f1': []} for name in models.keys()}\n",
    "\n",
    "for i in range(n_iterations):\n",
    "    X_train_iter, X_test_iter, y_train_iter, y_test_iter = train_test_split(\n",
    "        X, y_encoded, test_size=0.95, stratify=y_encoded, random_state=i\n",
    "    )\n",
    "    \n",
    "    for name, model in models.items():\n",
    "        pipe = Pipeline([\n",
    "            ('preprocessor', baseline_preprocessor),\n",
    "            ('classifier', model)\n",
    "        ])\n",
    "        \n",
    "        pipe.fit(X_train_iter, y_train_iter)\n",
    "        y_pred = pipe.predict(X_test_iter)\n",
    "        \n",
    "        baseline_results[name]['accuracy'].append(accuracy_score(y_test_iter, y_pred))\n",
    "        baseline_results[name]['precision'].append(precision_score(y_test_iter, y_pred, average='macro'))\n",
    "        baseline_results[name]['recall'].append(recall_score(y_test_iter, y_pred, average='macro'))\n",
    "        baseline_results[name]['f1'].append(f1_score(y_test_iter, y_pred, average='macro'))\n",
    "    \n",
    "    if (i + 1) % 20 == 0:\n",
    "        print(f\"completed {i + 1}/{n_iterations}\")\n",
    "\n",
    "baseline_summary = {name: {\n",
    "    'accuracy_mean': np.mean(scores['accuracy']),\n",
    "    'accuracy_std': np.std(scores['accuracy']),\n",
    "    'precision_mean': np.mean(scores['precision']),\n",
    "    'precision_std': np.std(scores['precision']),\n",
    "    'recall_mean': np.mean(scores['recall']),\n",
    "    'recall_std': np.std(scores['recall']),\n",
    "    'f1_mean': np.mean(scores['f1']),\n",
    "    'f1_std': np.std(scores['f1'])\n",
    "} for name, scores in baseline_results.items()}"
   ]
  },
  {
   "cell_type": "markdown",
   "metadata": {},
   "source": [
    "## baseline results"
   ]
  },
  {
   "cell_type": "code",
   "execution_count": 5,
   "metadata": {},
   "outputs": [
    {
     "name": "stdout",
     "output_type": "stream",
     "text": [
      "Logistic Regression:\n",
      "  accuracy:  0.9378 ± 0.0554\n",
      "  precision: 0.9388 ± 0.0571\n",
      "  recall:    0.9283 ± 0.0615\n",
      "  f1:        0.9306 ± 0.0624\n",
      "\n",
      "Decision Tree:\n",
      "  accuracy:  0.8962 ± 0.0399\n",
      "  precision: 0.8888 ± 0.0479\n",
      "  recall:    0.8814 ± 0.0531\n",
      "  f1:        0.8810 ± 0.0517\n",
      "\n",
      "Random Forest:\n",
      "  accuracy:  0.9640 ± 0.0178\n",
      "  precision: 0.9668 ± 0.0136\n",
      "  recall:    0.9521 ± 0.0304\n",
      "  f1:        0.9575 ± 0.0244\n",
      "\n",
      "Gradient Boosting:\n",
      "  accuracy:  0.9232 ± 0.0361\n",
      "  precision: 0.9348 ± 0.0294\n",
      "  recall:    0.9061 ± 0.0496\n",
      "  f1:        0.9150 ± 0.0458\n",
      "\n",
      "XGBoost:\n",
      "  accuracy:  0.8617 ± 0.0595\n",
      "  precision: 0.9015 ± 0.0356\n",
      "  recall:    0.8221 ± 0.0799\n",
      "  f1:        0.8387 ± 0.0775\n",
      "\n"
     ]
    }
   ],
   "source": [
    "for name, stats in baseline_summary.items():\n",
    "    print(f\"{name}:\")\n",
    "    print(f\"  accuracy:  {stats['accuracy_mean']:.4f} ± {stats['accuracy_std']:.4f}\")\n",
    "    print(f\"  precision: {stats['precision_mean']:.4f} ± {stats['precision_std']:.4f}\")\n",
    "    print(f\"  recall:    {stats['recall_mean']:.4f} ± {stats['recall_std']:.4f}\")\n",
    "    print(f\"  f1:        {stats['f1_mean']:.4f} ± {stats['f1_std']:.4f}\")\n",
    "    print()"
   ]
  },
  {
   "cell_type": "markdown",
   "metadata": {},
   "source": [
    "## monte carlo cv: optimal with hyperparameter tuning"
   ]
  },
  {
   "cell_type": "code",
   "execution_count": 6,
   "metadata": {},
   "outputs": [
    {
     "name": "stdout",
     "output_type": "stream",
     "text": [
      "completed 20/100\n",
      "completed 40/100\n",
      "completed 60/100\n",
      "completed 80/100\n",
      "completed 100/100\n"
     ]
    }
   ],
   "source": [
    "param_grids = {\n",
    "    'Logistic Regression': {'classifier__C': [0.1, 1, 10], 'classifier__solver': ['lbfgs', 'liblinear']},\n",
    "    'Decision Tree': {'classifier__max_depth': [3, 5, 10, None]},\n",
    "    'Random Forest': {'classifier__n_estimators': [50, 100], 'classifier__max_depth': [5, 10, None]},\n",
    "    'Gradient Boosting': {'classifier__n_estimators': [50, 100], 'classifier__learning_rate': [0.01, 0.1]},\n",
    "    'XGBoost': {'classifier__n_estimators': [50, 100], 'classifier__learning_rate': [0.01, 0.1]}\n",
    "}\n",
    "\n",
    "optimal_results = {name: {'accuracy': [], 'precision': [], 'recall': [], 'f1': []} for name in models.keys()}\n",
    "\n",
    "for i in range(n_iterations):\n",
    "    X_train_iter, X_test_iter, y_train_iter, y_test_iter = train_test_split(\n",
    "        X, y_encoded, test_size=0.95, stratify=y_encoded, random_state=i\n",
    "    )\n",
    "    \n",
    "    for name, model in models.items():\n",
    "        pipe = ImbPipeline([\n",
    "            ('preprocessor', optimal_preprocessor),\n",
    "            ('smote', SMOTE(random_state=42, k_neighbors=1)),\n",
    "            ('classifier', model)\n",
    "        ])\n",
    "        \n",
    "        grid = GridSearchCV(pipe, param_grids[name], cv=3, scoring='f1_macro', n_jobs=-1)\n",
    "        grid.fit(X_train_iter, y_train_iter)\n",
    "        y_pred = grid.predict(X_test_iter)\n",
    "        \n",
    "        optimal_results[name]['accuracy'].append(accuracy_score(y_test_iter, y_pred))\n",
    "        optimal_results[name]['precision'].append(precision_score(y_test_iter, y_pred, average='macro'))\n",
    "        optimal_results[name]['recall'].append(recall_score(y_test_iter, y_pred, average='macro'))\n",
    "        optimal_results[name]['f1'].append(f1_score(y_test_iter, y_pred, average='macro'))\n",
    "    \n",
    "    if (i + 1) % 20 == 0:\n",
    "        print(f\"completed {i + 1}/{n_iterations}\")\n",
    "\n",
    "optimal_summary = {name: {\n",
    "    'accuracy_mean': np.mean(scores['accuracy']),\n",
    "    'accuracy_std': np.std(scores['accuracy']),\n",
    "    'precision_mean': np.mean(scores['precision']),\n",
    "    'precision_std': np.std(scores['precision']),\n",
    "    'recall_mean': np.mean(scores['recall']),\n",
    "    'recall_std': np.std(scores['recall']),\n",
    "    'f1_mean': np.mean(scores['f1']),\n",
    "    'f1_std': np.std(scores['f1'])\n",
    "} for name, scores in optimal_results.items()}"
   ]
  },
  {
   "cell_type": "markdown",
   "metadata": {},
   "source": [
    "## optimal results"
   ]
  },
  {
   "cell_type": "code",
   "execution_count": 7,
   "metadata": {},
   "outputs": [
    {
     "name": "stdout",
     "output_type": "stream",
     "text": [
      "Logistic Regression:\n",
      "  accuracy:  0.9725 ± 0.0201\n",
      "  precision: 0.9670 ± 0.0222\n",
      "  recall:    0.9724 ± 0.0242\n",
      "  f1:        0.9680 ± 0.0243\n",
      "\n",
      "Decision Tree:\n",
      "  accuracy:  0.9016 ± 0.0461\n",
      "  precision: 0.8953 ± 0.0497\n",
      "  recall:    0.8900 ± 0.0511\n",
      "  f1:        0.8877 ± 0.0529\n",
      "\n",
      "Random Forest:\n",
      "  accuracy:  0.9654 ± 0.0172\n",
      "  precision: 0.9636 ± 0.0154\n",
      "  recall:    0.9590 ± 0.0275\n",
      "  f1:        0.9600 ± 0.0223\n",
      "\n",
      "Gradient Boosting:\n",
      "  accuracy:  0.9245 ± 0.0335\n",
      "  precision: 0.9353 ± 0.0289\n",
      "  recall:    0.9111 ± 0.0428\n",
      "  f1:        0.9191 ± 0.0390\n",
      "\n",
      "XGBoost:\n",
      "  accuracy:  0.8540 ± 0.0660\n",
      "  precision: 0.8835 ± 0.0597\n",
      "  recall:    0.8211 ± 0.0863\n",
      "  f1:        0.8331 ± 0.0841\n",
      "\n"
     ]
    }
   ],
   "source": [
    "for name, stats in optimal_summary.items():\n",
    "    print(f\"{name}:\")\n",
    "    print(f\"  accuracy:  {stats['accuracy_mean']:.4f} ± {stats['accuracy_std']:.4f}\")\n",
    "    print(f\"  precision: {stats['precision_mean']:.4f} ± {stats['precision_std']:.4f}\")\n",
    "    print(f\"  recall:    {stats['recall_mean']:.4f} ± {stats['recall_std']:.4f}\")\n",
    "    print(f\"  f1:        {stats['f1_mean']:.4f} ± {stats['f1_std']:.4f}\")\n",
    "    print()"
   ]
  },
  {
   "cell_type": "markdown",
   "metadata": {},
   "source": [
    "## comparison"
   ]
  },
  {
   "cell_type": "code",
   "execution_count": 8,
   "metadata": {},
   "outputs": [
    {
     "name": "stdout",
     "output_type": "stream",
     "text": [
      "              model  baseline_f1  baseline_std  optimal_f1  optimal_std  improvement\n",
      "Logistic Regression     0.930562      0.062404    0.968048     0.024273     0.037486\n",
      "      Random Forest     0.957509      0.024396    0.959971     0.022290     0.002462\n",
      "  Gradient Boosting     0.914971      0.045818    0.919082     0.039025     0.004111\n",
      "      Decision Tree     0.880953      0.051731    0.887674     0.052942     0.006721\n",
      "            XGBoost     0.838731      0.077519    0.833107     0.084145    -0.005624\n"
     ]
    }
   ],
   "source": [
    "comparison = []\n",
    "for name in models.keys():\n",
    "    comparison.append({\n",
    "        'model': name,\n",
    "        'baseline_f1': baseline_summary[name]['f1_mean'],\n",
    "        'baseline_std': baseline_summary[name]['f1_std'],\n",
    "        'optimal_f1': optimal_summary[name]['f1_mean'],\n",
    "        'optimal_std': optimal_summary[name]['f1_std'],\n",
    "        'improvement': optimal_summary[name]['f1_mean'] - baseline_summary[name]['f1_mean']\n",
    "    })\n",
    "\n",
    "comparison_df = pd.DataFrame(comparison).sort_values('optimal_f1', ascending=False)\n",
    "print(comparison_df.to_string(index=False))"
   ]
  },
  {
   "cell_type": "markdown",
   "metadata": {},
   "source": [
    "## visualization"
   ]
  },
  {
   "cell_type": "code",
   "execution_count": 9,
   "metadata": {},
   "outputs": [
    {
     "data": {
      "image/png": "[encoded data removed]",
      "text/plain": [
       "<Figure size 1200x600 with 1 Axes>"
      ]
     },
     "metadata": {},
     "output_type": "display_data"
    }
   ],
   "source": [
    "fig, ax = plt.subplots(figsize=(12, 6))\n",
    "\n",
    "x = np.arange(len(comparison_df))\n",
    "width = 0.35\n",
    "\n",
    "ax.barh(x - width/2, comparison_df['baseline_f1'], width, \n",
    "        label='baseline', color='#95a5a6', xerr=comparison_df['baseline_std'])\n",
    "ax.barh(x + width/2, comparison_df['optimal_f1'], width,\n",
    "        label='optimal', color='#3498db', xerr=comparison_df['optimal_std'])\n",
    "\n",
    "ax.set_yticks(x)\n",
    "ax.set_yticklabels(comparison_df['model'])\n",
    "ax.set_xlabel('f1-score')\n",
    "ax.set_title('5/95 stress test: baseline vs optimal')\n",
    "ax.legend()\n",
    "ax.set_xlim([0.75, 1.0])\n",
    "\n",
    "plt.tight_layout()\n",
    "plt.savefig('preprocessing_validation_5_95.png', dpi=150)\n",
    "plt.show()"
   ]
  },
  {
   "cell_type": "markdown",
   "metadata": {},
   "source": [
    "## ablation study"
   ]
  },
  {
   "cell_type": "code",
   "execution_count": 10,
   "metadata": {},
   "outputs": [
    {
     "name": "stdout",
     "output_type": "stream",
     "text": [
      "ablation study (logistic regression):\n",
      "baseline: 0.9276 ± 0.0649 (+0.00%)\n",
      "mice_knn_only: 0.9355 ± 0.0606 (+0.78%)\n",
      "scaling_only: 0.9724 ± 0.0243 (+4.47%)\n",
      "full_pipeline: 0.9714 ± 0.0298 (+4.38%)\n"
     ]
    }
   ],
   "source": [
    "ablation_configs = {\n",
    "    'baseline': baseline_preprocessor,\n",
    "    'mice_knn_only': ColumnTransformer([\n",
    "        ('num', IterativeImputer(random_state=42, max_iter=10), numerical_features),\n",
    "        ('sex', KNNImputer(n_neighbors=5), sex_feature)\n",
    "    ], remainder='passthrough'),\n",
    "    'scaling_only': ColumnTransformer([\n",
    "        ('num', Pipeline([('imputer', SimpleImputer(strategy='median')), \n",
    "                          ('scaler', StandardScaler())]), numerical_features),\n",
    "        ('sex', SimpleImputer(strategy='most_frequent'), sex_feature)\n",
    "    ], remainder='passthrough'),\n",
    "    'full_pipeline': optimal_preprocessor\n",
    "}\n",
    "\n",
    "ablation_results = {}\n",
    "model_for_ablation = LogisticRegression(random_state=42, max_iter=1000)\n",
    "\n",
    "for config_name, preprocessor in ablation_configs.items():\n",
    "    scores = []\n",
    "    for i in range(50):\n",
    "        X_train_iter, X_test_iter, y_train_iter, y_test_iter = train_test_split(\n",
    "            X, y_encoded, test_size=0.95, stratify=y_encoded, random_state=i\n",
    "        )\n",
    "        \n",
    "        pipe = Pipeline([('preprocessor', preprocessor), ('classifier', model_for_ablation)])\n",
    "        pipe.fit(X_train_iter, y_train_iter)\n",
    "        y_pred = pipe.predict(X_test_iter)\n",
    "        scores.append(f1_score(y_test_iter, y_pred, average='macro'))\n",
    "    \n",
    "    ablation_results[config_name] = {'mean': np.mean(scores), 'std': np.std(scores)}\n",
    "\n",
    "print(\"ablation study (logistic regression):\")\n",
    "for name, stats in ablation_results.items():\n",
    "    improvement = (stats['mean'] - ablation_results['baseline']['mean']) * 100\n",
    "    print(f\"{name}: {stats['mean']:.4f} ± {stats['std']:.4f} ({improvement:+.2f}%)\")"
   ]
  },
  {
   "cell_type": "markdown",
   "metadata": {},
   "source": [
    "## ablation visualization"
   ]
  },
  {
   "cell_type": "code",
   "execution_count": 11,
   "metadata": {},
   "outputs": [
    {
     "data": {
      "image/png": "[encoded data removed]",
      "text/plain": [
       "<Figure size 1000x600 with 1 Axes>"
      ]
     },
     "metadata": {},
     "output_type": "display_data"
    }
   ],
   "source": [
    "fig, ax = plt.subplots(figsize=(10, 6))\n",
    "\n",
    "names = list(ablation_results.keys())\n",
    "means = [ablation_results[n]['mean'] for n in names]\n",
    "stds = [ablation_results[n]['std'] for n in names]\n",
    "\n",
    "ax.barh(names, means, xerr=stds, color='skyblue')\n",
    "ax.set_xlabel('f1-score')\n",
    "ax.set_title('ablation study: preprocessing components (5/95 split)')\n",
    "ax.grid(alpha=0.3)\n",
    "plt.tight_layout()\n",
    "plt.savefig('ablation_study_5_95.png', dpi=150)\n",
    "plt.show()"
   ]
  },
  {
   "cell_type": "markdown",
   "metadata": {},
   "source": [
    "## results analysis\n",
    "\n"
   ]
  }
 ],
 "metadata": {
  "kernelspec": {
   "display_name": "Python 3 (ipykernel)",
   "language": "python",
   "name": "python3"
  },
  "language_info": {
   "codemirror_mode": {
    "name": "ipython",
    "version": 3
   },
   "file_extension": ".py",
   "mimetype": "text/x-python",
   "name": "python",
   "nbconvert_exporter": "python",
   "pygments_lexer": "ipython3",
   "version": "3.13.7"
  }
 },
 "nbformat": 4,
 "nbformat_minor": 4
}
