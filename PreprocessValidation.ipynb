{
 "cells": [
  {
   "cell_type": "markdown",
   "metadata": {},
   "source": [
    "# Preprocessing Validation: 5/95 Stress Test\n",
    "\n",
    "stress testing preprocessing with extreme 5/95 split using sklearn pipelines and monte carlo cv"
   ]
  },
  {
   "cell_type": "code",
   "execution_count": 111,
   "metadata": {},
   "outputs": [],
   "source": [
    "import pandas as pd\n",
    "import numpy as np\n",
    "import matplotlib.pyplot as plt\n",
    "import seaborn as sns\n",
    "\n",
    "from sklearn.experimental import enable_iterative_imputer\n",
    "from sklearn.impute import SimpleImputer, IterativeImputer, KNNImputer\n",
    "from sklearn.preprocessing import StandardScaler, LabelEncoder, FunctionTransformer\n",
    "from sklearn.model_selection import train_test_split, GridSearchCV\n",
    "from sklearn.pipeline import Pipeline\n",
    "from sklearn.compose import ColumnTransformer\n",
    "\n",
    "from sklearn.linear_model import LogisticRegression\n",
    "from sklearn.tree import DecisionTreeClassifier\n",
    "from sklearn.ensemble import RandomForestClassifier, GradientBoostingClassifier\n",
    "from xgboost import XGBClassifier\n",
    "\n",
    "from sklearn.metrics import f1_score, accuracy_score, precision_score, recall_score\n",
    "\n",
    "from imblearn.over_sampling import SMOTE\n",
    "from imblearn.pipeline import Pipeline as ImbPipeline\n",
    "\n",
    "import warnings\n",
    "warnings.filterwarnings('ignore')\n",
    "sns.set_style('whitegrid')"
   ]
  },
  {
   "cell_type": "markdown",
   "metadata": {},
   "source": [
    "## load data"
   ]
  },
  {
   "cell_type": "code",
   "execution_count": 112,
   "metadata": {},
   "outputs": [
    {
     "name": "stdout",
     "output_type": "stream",
     "text": [
      "samples: 342, features: 10\n",
      "missing: 32\n"
     ]
    }
   ],
   "source": [
    "df = pd.read_csv('data_cleaned.csv')\n",
    "\n",
    "X = df.drop(columns=['Species'])\n",
    "y = df['Species']\n",
    "\n",
    "le = LabelEncoder()\n",
    "y_encoded = le.fit_transform(y)\n",
    "\n",
    "print(f\"samples: {len(df)}, features: {X.shape[1]}\")\n",
    "print(f\"missing: {df.isna().sum().sum()}\")"
   ]
  },
  {
   "cell_type": "markdown",
   "metadata": {},
   "source": [
    "## define pipelines"
   ]
  },
  {
   "cell_type": "code",
   "execution_count": 113,
   "metadata": {},
   "outputs": [],
   "source": [
    "numerical_features = ['Culmen Length (mm)', 'Culmen Depth (mm)', 'Flipper Length (mm)', \n",
    "                      'Body Mass (g)', 'Delta 15 N (o/oo)', 'Delta 13 C (o/oo)']\n",
    "sex_feature = ['Sex']\n",
    "\n",
    "baseline_preprocessor = ColumnTransformer([\n",
    "    ('num', SimpleImputer(strategy='median'), numerical_features),\n",
    "    ('sex', SimpleImputer(strategy='most_frequent'), sex_feature)\n",
    "], remainder='passthrough')\n",
    "\n",
    "optimal_preprocessor = ColumnTransformer([\n",
    "    ('num', Pipeline([\n",
    "        ('imputer', IterativeImputer(random_state=42, max_iter=10)),\n",
    "        ('scaler', StandardScaler())\n",
    "    ]), numerical_features),\n",
    "    ('sex', Pipeline([\n",
    "        ('imputer', IterativeImputer(random_state=42, max_iter=10)),\n",
    "        ('scaler', StandardScaler())\n",
    "    ]), sex_feature)\n",
    "], remainder='passthrough')\n",
    "\n",
    "models = {\n",
    "    'Logistic Regression': LogisticRegression(random_state=42, max_iter=1000),\n",
    "    'Decision Tree': DecisionTreeClassifier(random_state=42),\n",
    "    'Random Forest': RandomForestClassifier(random_state=42, n_estimators=100),\n",
    "    'Gradient Boosting': GradientBoostingClassifier(random_state=42, n_estimators=100),\n",
    "    'XGBoost': XGBClassifier(random_state=42, n_estimators=100, eval_metric='mlogloss')\n",
    "}"
   ]
  },
  {
   "cell_type": "markdown",
   "metadata": {},
   "source": [
    "## monte carlo cv: baseline"
   ]
  },
  {
   "cell_type": "code",
   "execution_count": 114,
   "metadata": {},
   "outputs": [
    {
     "name": "stdout",
     "output_type": "stream",
     "text": [
      "completed 20/100\n",
      "completed 40/100\n",
      "completed 60/100\n",
      "completed 80/100\n",
      "completed 100/100\n"
     ]
    }
   ],
   "source": [
    "n_iterations = 100\n",
    "baseline_results = {name: {'accuracy': [], 'precision': [], 'recall': [], 'f1': []} for name in models.keys()}\n",
    "\n",
    "for i in range(n_iterations):\n",
    "    X_train_iter, X_test_iter, y_train_iter, y_test_iter = train_test_split(\n",
    "        X, y_encoded, test_size=0.95, stratify=y_encoded, random_state=i\n",
    "    )\n",
    "    \n",
    "    for name, model in models.items():\n",
    "        pipe = Pipeline([\n",
    "            ('preprocessor', baseline_preprocessor),\n",
    "            ('classifier', model)\n",
    "        ])\n",
    "        \n",
    "        pipe.fit(X_train_iter, y_train_iter)\n",
    "        y_pred = pipe.predict(X_test_iter)\n",
    "        \n",
    "        baseline_results[name]['accuracy'].append(accuracy_score(y_test_iter, y_pred))\n",
    "        baseline_results[name]['precision'].append(precision_score(y_test_iter, y_pred, average='macro'))\n",
    "        baseline_results[name]['recall'].append(recall_score(y_test_iter, y_pred, average='macro'))\n",
    "        baseline_results[name]['f1'].append(f1_score(y_test_iter, y_pred, average='macro'))\n",
    "    \n",
    "    if (i + 1) % 20 == 0:\n",
    "        print(f\"completed {i + 1}/{n_iterations}\")\n",
    "\n",
    "baseline_summary = {name: {\n",
    "    'accuracy_mean': np.mean(scores['accuracy']),\n",
    "    'accuracy_std': np.std(scores['accuracy']),\n",
    "    'precision_mean': np.mean(scores['precision']),\n",
    "    'precision_std': np.std(scores['precision']),\n",
    "    'recall_mean': np.mean(scores['recall']),\n",
    "    'recall_std': np.std(scores['recall']),\n",
    "    'f1_mean': np.mean(scores['f1']),\n",
    "    'f1_std': np.std(scores['f1'])\n",
    "} for name, scores in baseline_results.items()}"
   ]
  },
  {
   "cell_type": "markdown",
   "metadata": {},
   "source": [
    "## baseline results"
   ]
  },
  {
   "cell_type": "code",
   "execution_count": 115,
   "metadata": {},
   "outputs": [
    {
     "name": "stdout",
     "output_type": "stream",
     "text": [
      "Logistic Regression:\n",
      "  accuracy:  0.9477 ± 0.0523\n",
      "  precision: 0.9491 ± 0.0526\n",
      "  recall:    0.9387 ± 0.0581\n",
      "  f1:        0.9410 ± 0.0579\n",
      "\n",
      "Decision Tree:\n",
      "  accuracy:  0.8938 ± 0.0448\n",
      "  precision: 0.8861 ± 0.0478\n",
      "  recall:    0.8817 ± 0.0552\n",
      "  f1:        0.8795 ± 0.0541\n",
      "\n",
      "Random Forest:\n",
      "  accuracy:  0.9695 ± 0.0224\n",
      "  precision: 0.9719 ± 0.0159\n",
      "  recall:    0.9589 ± 0.0363\n",
      "  f1:        0.9632 ± 0.0314\n",
      "\n",
      "Gradient Boosting:\n",
      "  accuracy:  0.9285 ± 0.0428\n",
      "  precision: 0.9384 ± 0.0341\n",
      "  recall:    0.9116 ± 0.0610\n",
      "  f1:        0.9183 ± 0.0584\n",
      "\n",
      "XGBoost:\n",
      "  accuracy:  0.8672 ± 0.0582\n",
      "  precision: 0.9034 ± 0.0328\n",
      "  recall:    0.8261 ± 0.0779\n",
      "  f1:        0.8411 ± 0.0776\n",
      "\n"
     ]
    }
   ],
   "source": [
    "for name, stats in baseline_summary.items():\n",
    "    print(f\"{name}:\")\n",
    "    print(f\"  accuracy:  {stats['accuracy_mean']:.4f} ± {stats['accuracy_std']:.4f}\")\n",
    "    print(f\"  precision: {stats['precision_mean']:.4f} ± {stats['precision_std']:.4f}\")\n",
    "    print(f\"  recall:    {stats['recall_mean']:.4f} ± {stats['recall_std']:.4f}\")\n",
    "    print(f\"  f1:        {stats['f1_mean']:.4f} ± {stats['f1_std']:.4f}\")\n",
    "    print()"
   ]
  },
  {
   "cell_type": "markdown",
   "metadata": {},
   "source": [
    "## monte carlo cv: optimal with hyperparameter tuning"
   ]
  },
  {
   "cell_type": "code",
   "execution_count": 116,
   "metadata": {},
   "outputs": [
    {
     "name": "stdout",
     "output_type": "stream",
     "text": [
      "completed 20/100\n",
      "completed 40/100\n",
      "completed 60/100\n",
      "completed 80/100\n",
      "completed 100/100\n"
     ]
    }
   ],
   "source": [
    "param_grids = {\n",
    "    'Logistic Regression': {'classifier__C': [0.1, 1, 10], 'classifier__solver': ['lbfgs', 'liblinear']},\n",
    "    'Decision Tree': {'classifier__max_depth': [3, 5, 10, None]},\n",
    "    'Random Forest': {'classifier__n_estimators': [50, 100], 'classifier__max_depth': [5, 10, None]},\n",
    "    'Gradient Boosting': {'classifier__n_estimators': [50, 100], 'classifier__learning_rate': [0.01, 0.1]},\n",
    "    'XGBoost': {'classifier__n_estimators': [50, 100], 'classifier__learning_rate': [0.01, 0.1]}\n",
    "}\n",
    "\n",
    "optimal_results = {name: {'accuracy': [], 'precision': [], 'recall': [], 'f1': []} for name in models.keys()}\n",
    "\n",
    "for i in range(n_iterations):\n",
    "    X_train_iter, X_test_iter, y_train_iter, y_test_iter = train_test_split(\n",
    "        X, y_encoded, test_size=0.95, stratify=y_encoded, random_state=i\n",
    "    )\n",
    "    \n",
    "    for name, model in models.items():\n",
    "        pipe = ImbPipeline([\n",
    "            ('preprocessor', optimal_preprocessor),\n",
    "            ('smote', SMOTE(random_state=42, k_neighbors=1)),\n",
    "            ('classifier', model)\n",
    "        ])\n",
    "        \n",
    "        grid = GridSearchCV(pipe, param_grids[name], cv=3, scoring='f1_macro', n_jobs=-1)\n",
    "        grid.fit(X_train_iter, y_train_iter)\n",
    "        y_pred = grid.predict(X_test_iter)\n",
    "        \n",
    "        optimal_results[name]['accuracy'].append(accuracy_score(y_test_iter, y_pred))\n",
    "        optimal_results[name]['precision'].append(precision_score(y_test_iter, y_pred, average='macro'))\n",
    "        optimal_results[name]['recall'].append(recall_score(y_test_iter, y_pred, average='macro'))\n",
    "        optimal_results[name]['f1'].append(f1_score(y_test_iter, y_pred, average='macro'))\n",
    "    \n",
    "    if (i + 1) % 20 == 0:\n",
    "        print(f\"completed {i + 1}/{n_iterations}\")\n",
    "\n",
    "optimal_summary = {name: {\n",
    "    'accuracy_mean': np.mean(scores['accuracy']),\n",
    "    'accuracy_std': np.std(scores['accuracy']),\n",
    "    'precision_mean': np.mean(scores['precision']),\n",
    "    'precision_std': np.std(scores['precision']),\n",
    "    'recall_mean': np.mean(scores['recall']),\n",
    "    'recall_std': np.std(scores['recall']),\n",
    "    'f1_mean': np.mean(scores['f1']),\n",
    "    'f1_std': np.std(scores['f1'])\n",
    "} for name, scores in optimal_results.items()}"
   ]
  },
  {
   "cell_type": "markdown",
   "metadata": {},
   "source": [
    "## optimal results"
   ]
  },
  {
   "cell_type": "code",
   "execution_count": 117,
   "metadata": {},
   "outputs": [
    {
     "name": "stdout",
     "output_type": "stream",
     "text": [
      "Logistic Regression:\n",
      "  accuracy:  0.9786 ± 0.0157\n",
      "  precision: 0.9719 ± 0.0192\n",
      "  recall:    0.9797 ± 0.0174\n",
      "  f1:        0.9746 ± 0.0185\n",
      "\n",
      "Decision Tree:\n",
      "  accuracy:  0.8994 ± 0.0503\n",
      "  precision: 0.8909 ± 0.0524\n",
      "  recall:    0.8877 ± 0.0561\n",
      "  f1:        0.8843 ± 0.0578\n",
      "\n",
      "Random Forest:\n",
      "  accuracy:  0.9702 ± 0.0177\n",
      "  precision: 0.9675 ± 0.0171\n",
      "  recall:    0.9649 ± 0.0265\n",
      "  f1:        0.9650 ± 0.0228\n",
      "\n",
      "Gradient Boosting:\n",
      "  accuracy:  0.9283 ± 0.0515\n",
      "  precision: 0.9371 ± 0.0454\n",
      "  recall:    0.9151 ± 0.0657\n",
      "  f1:        0.9200 ± 0.0652\n",
      "\n",
      "XGBoost:\n",
      "  accuracy:  0.8595 ± 0.0640\n",
      "  precision: 0.8863 ± 0.0547\n",
      "  recall:    0.8273 ± 0.0819\n",
      "  f1:        0.8375 ± 0.0822\n",
      "\n"
     ]
    }
   ],
   "source": [
    "for name, stats in optimal_summary.items():\n",
    "    print(f\"{name}:\")\n",
    "    print(f\"  accuracy:  {stats['accuracy_mean']:.4f} ± {stats['accuracy_std']:.4f}\")\n",
    "    print(f\"  precision: {stats['precision_mean']:.4f} ± {stats['precision_std']:.4f}\")\n",
    "    print(f\"  recall:    {stats['recall_mean']:.4f} ± {stats['recall_std']:.4f}\")\n",
    "    print(f\"  f1:        {stats['f1_mean']:.4f} ± {stats['f1_std']:.4f}\")\n",
    "    print()"
   ]
  },
  {
   "cell_type": "markdown",
   "metadata": {},
   "source": [
    "## comparison"
   ]
  },
  {
   "cell_type": "code",
   "execution_count": 118,
   "metadata": {},
   "outputs": [
    {
     "name": "stdout",
     "output_type": "stream",
     "text": [
      "              model  baseline_f1  baseline_std  optimal_f1  optimal_std  improvement\n",
      "Logistic Regression     0.940991      0.057931    0.974632     0.018487     0.033640\n",
      "      Random Forest     0.963178      0.031438    0.965028     0.022756     0.001850\n",
      "  Gradient Boosting     0.918314      0.058381    0.920025     0.065176     0.001710\n",
      "      Decision Tree     0.879509      0.054122    0.884307     0.057844     0.004798\n",
      "            XGBoost     0.841067      0.077568    0.837460     0.082159    -0.003607\n"
     ]
    }
   ],
   "source": [
    "comparison = []\n",
    "for name in models.keys():\n",
    "    comparison.append({\n",
    "        'model': name,\n",
    "        'baseline_f1': baseline_summary[name]['f1_mean'],\n",
    "        'baseline_std': baseline_summary[name]['f1_std'],\n",
    "        'optimal_f1': optimal_summary[name]['f1_mean'],\n",
    "        'optimal_std': optimal_summary[name]['f1_std'],\n",
    "        'improvement': optimal_summary[name]['f1_mean'] - baseline_summary[name]['f1_mean']\n",
    "    })\n",
    "\n",
    "comparison_df = pd.DataFrame(comparison).sort_values('optimal_f1', ascending=False)\n",
    "print(comparison_df.to_string(index=False))"
   ]
  },
  {
   "cell_type": "markdown",
   "metadata": {},
   "source": [
    "## visualization"
   ]
  },
  {
   "cell_type": "code",
   "execution_count": 119,
   "metadata": {},
   "outputs": [
    {
     "data": {
      "image/png": "[encoded data removed]",
      "text/plain": [
       "<Figure size 1200x600 with 1 Axes>"
      ]
     },
     "metadata": {},
     "output_type": "display_data"
    }
   ],
   "source": [
    "fig, ax = plt.subplots(figsize=(12, 6))\n",
    "\n",
    "x = np.arange(len(comparison_df))\n",
    "width = 0.35\n",
    "\n",
    "ax.barh(x - width/2, comparison_df['baseline_f1'], width, \n",
    "        label='baseline', color='#95a5a6', xerr=comparison_df['baseline_std'])\n",
    "ax.barh(x + width/2, comparison_df['optimal_f1'], width,\n",
    "        label='optimal', color='#3498db', xerr=comparison_df['optimal_std'])\n",
    "\n",
    "ax.set_yticks(x)\n",
    "ax.set_yticklabels(comparison_df['model'])\n",
    "ax.set_xlabel('f1-score')\n",
    "ax.set_title('5/95 stress test: baseline vs optimal')\n",
    "ax.legend()\n",
    "ax.set_xlim([0.75, 1.0])\n",
    "\n",
    "plt.tight_layout()\n",
    "plt.savefig('preprocessing_validation_5_95.png', dpi=150)\n",
    "plt.show()"
   ]
  },
  {
   "cell_type": "markdown",
   "metadata": {},
   "source": [
    "## ablation study"
   ]
  },
  {
   "cell_type": "code",
   "execution_count": 120,
   "metadata": {},
   "outputs": [
    {
     "name": "stdout",
     "output_type": "stream",
     "text": [
      "ablation study (5/95 split):\n",
      "baseline: 0.9390 ± 0.0577 (+0.00%)\n",
      "knn_imputer: 0.9326 ± 0.0591 (-0.64%)\n",
      "mice_imputer: 0.9326 ± 0.0585 (-0.64%)\n",
      "scaling_only: 0.9793 ± 0.0132 (+4.03%)\n",
      "full_pipeline: 0.9795 ± 0.0145 (+4.05%)\n"
     ]
    }
   ],
   "source": [
    "ablation_configs = {\n",
    "    'baseline': baseline_preprocessor,\n",
    "    'knn_imputer': ColumnTransformer([\n",
    "        ('num', KNNImputer(n_neighbors=5), numerical_features),\n",
    "        ('sex', KNNImputer(n_neighbors=5), sex_feature)\n",
    "    ], remainder='passthrough'),\n",
    "    'mice_imputer': ColumnTransformer([\n",
    "        ('num', IterativeImputer(random_state=42, max_iter=10), numerical_features),\n",
    "        ('sex', IterativeImputer(random_state=42, max_iter=10), sex_feature)\n",
    "    ], remainder='passthrough'),\n",
    "    'scaling_only': ColumnTransformer([\n",
    "        ('num', Pipeline([('imputer', SimpleImputer(strategy='median')), \n",
    "                          ('scaler', StandardScaler())]), numerical_features),\n",
    "        ('sex', SimpleImputer(strategy='most_frequent'), sex_feature)\n",
    "    ], remainder='passthrough'),\n",
    "    'full_pipeline': optimal_preprocessor\n",
    "}\n",
    "\n",
    "ablation_results = {}\n",
    "model_for_ablation = LogisticRegression(random_state=42, max_iter=1000)\n",
    "\n",
    "for config_name, preprocessor in ablation_configs.items():\n",
    "    scores = []\n",
    "    for i in range(50):\n",
    "        X_train_iter, X_test_iter, y_train_iter, y_test_iter = train_test_split(\n",
    "            X, y_encoded, test_size=0.95, stratify=y_encoded, random_state=i\n",
    "        )\n",
    "        \n",
    "        pipe = ImbPipeline([\n",
    "            ('preprocessor', preprocessor),\n",
    "            ('smote', SMOTE(random_state=42, k_neighbors=1)),\n",
    "            ('classifier', model_for_ablation)\n",
    "        ])\n",
    "        pipe.fit(X_train_iter, y_train_iter)\n",
    "        y_pred = pipe.predict(X_test_iter)\n",
    "        scores.append(f1_score(y_test_iter, y_pred, average='macro'))\n",
    "    \n",
    "    ablation_results[config_name] = {'mean': np.mean(scores), 'std': np.std(scores)}\n",
    "\n",
    "print(\"ablation study (5/95 split):\")\n",
    "for name, stats in ablation_results.items():\n",
    "    improvement = (stats['mean'] - ablation_results['baseline']['mean']) * 100\n",
    "    print(f\"{name}: {stats['mean']:.4f} ± {stats['std']:.4f} ({improvement:+.2f}%)\")"
   ]
  },
  {
   "cell_type": "markdown",
   "metadata": {},
   "source": [
    "## ablation visualization"
   ]
  },
  {
   "cell_type": "code",
   "execution_count": 121,
   "metadata": {},
   "outputs": [
    {
     "data": {
      "image/png": "[encoded data removed]",
      "text/plain": [
       "<Figure size 1000x600 with 1 Axes>"
      ]
     },
     "metadata": {},
     "output_type": "display_data"
    }
   ],
   "source": [
    "fig, ax = plt.subplots(figsize=(10, 6))\n",
    "\n",
    "names = list(ablation_results.keys())\n",
    "means = [ablation_results[n]['mean'] for n in names]\n",
    "stds = [ablation_results[n]['std'] for n in names]\n",
    "\n",
    "ax.barh(names, means, xerr=stds, color='#3498db')\n",
    "ax.set_xlabel('f1-score')\n",
    "ax.set_title('ablation study: preprocessing components (5/95 split)')\n",
    "ax.set_xlim([0.85, 1.0])\n",
    "ax.grid(alpha=0.3, axis='x')\n",
    "\n",
    "plt.tight_layout()\n",
    "plt.savefig('ablation_study_5_95.png', dpi=150)\n",
    "plt.show()"
   ]
  },
  {
   "cell_type": "markdown",
   "metadata": {},
   "source": [
    "## results analysis\n",
    "\n"
   ]
  },
  {
   "cell_type": "code",
   "execution_count": 122,
   "metadata": {},
   "outputs": [
    {
     "name": "stdout",
     "output_type": "stream",
     "text": [
      "before preprocessing:\n",
      "  X_train has 0 NaN values\n",
      "  X_test has 32 NaN values\n",
      "\n",
      "after preprocessing:\n",
      "  X_train has 0 NaN values\n",
      "  X_test has 0 NaN values\n",
      "\n",
      "verification passed: pipeline correctly imputes all missing values\n"
     ]
    }
   ],
   "source": [
    "X_train_test, X_test_test, y_train_test, y_test_test = train_test_split(\n",
    "    X, y_encoded, test_size=0.95, stratify=y_encoded, random_state=42\n",
    ")\n",
    "\n",
    "print(f\"before preprocessing:\")\n",
    "print(f\"  X_train has {X_train_test.isna().sum().sum()} NaN values\")\n",
    "print(f\"  X_test has {X_test_test.isna().sum().sum()} NaN values\")\n",
    "\n",
    "X_train_transformed = optimal_preprocessor.fit_transform(X_train_test)\n",
    "X_test_transformed = optimal_preprocessor.transform(X_test_test)\n",
    "\n",
    "print(f\"\\nafter preprocessing:\")\n",
    "print(f\"  X_train has {np.isnan(X_train_transformed).sum()} NaN values\")\n",
    "print(f\"  X_test has {np.isnan(X_test_transformed).sum()} NaN values\")\n",
    "\n",
    "if np.isnan(X_train_transformed).sum() == 0 and np.isnan(X_test_transformed).sum() == 0:\n",
    "    print(\"\\nverification passed: pipeline correctly imputes all missing values\")\n",
    "else:\n",
    "    print(\"\\nWARNING: pipeline still has NaN values after preprocessing!\")"
   ]
  },
  {
   "cell_type": "markdown",
   "metadata": {},
   "source": [
    "## verify no nan values after preprocessing"
   ]
  },
  {
   "cell_type": "code",
   "execution_count": 123,
   "metadata": {},
   "outputs": [
    {
     "name": "stdout",
     "output_type": "stream",
     "text": [
      "no tuning:\n",
      "baseline: 0.9989 ± 0.0035\n",
      "knn_imputer: 0.9986 ± 0.0038\n",
      "mice_imputer: 0.9982 ± 0.0040\n",
      "scaling_only: 0.9961 ± 0.0056\n",
      "full_pipeline: 0.9968 ± 0.0042\n",
      "\n",
      "with tuning:\n",
      "baseline: 0.9993 ± 0.0031 [gain: +0.04%]\n",
      "knn_imputer: 0.9991 ± 0.0033 [gain: +0.05%]\n",
      "mice_imputer: 0.9987 ± 0.0036 [gain: +0.05%]\n",
      "scaling_only: 0.9942 ± 0.0057 [gain: -0.19%]\n",
      "full_pipeline: 0.9958 ± 0.0061 [gain: -0.10%]\n"
     ]
    }
   ],
   "source": [
    "tuning_no_tuning = {}\n",
    "tuning_with_tuning = {}\n",
    "param_grid = {'classifier__C': [0.1, 1, 10], 'classifier__solver': ['lbfgs', 'liblinear']}\n",
    "\n",
    "for config_name, preprocessor in ablation_configs.items():\n",
    "    scores_no = []\n",
    "    scores_with = []\n",
    "    \n",
    "    for i in range(50):\n",
    "        X_train_iter, X_test_iter, y_train_iter, y_test_iter = train_test_split(\n",
    "            X, y_encoded, test_size=0.4, stratify=y_encoded, random_state=i\n",
    "        )\n",
    "        \n",
    "        pipe_no = ImbPipeline([\n",
    "            ('preprocessor', preprocessor),\n",
    "            ('smote', SMOTE(random_state=42, k_neighbors=5)),\n",
    "            ('classifier', model_for_ablation)\n",
    "        ])\n",
    "        pipe_no.fit(X_train_iter, y_train_iter)\n",
    "        y_pred_no = pipe_no.predict(X_test_iter)\n",
    "        scores_no.append(f1_score(y_test_iter, y_pred_no, average='macro'))\n",
    "        \n",
    "        pipe_with = ImbPipeline([\n",
    "            ('preprocessor', preprocessor),\n",
    "            ('smote', SMOTE(random_state=42, k_neighbors=5)),\n",
    "            ('classifier', model_for_ablation)\n",
    "        ])\n",
    "        grid = GridSearchCV(pipe_with, param_grid, cv=3, scoring='f1_macro', n_jobs=-1)\n",
    "        grid.fit(X_train_iter, y_train_iter)\n",
    "        y_pred_with = grid.predict(X_test_iter)\n",
    "        scores_with.append(f1_score(y_test_iter, y_pred_with, average='macro'))\n",
    "    \n",
    "    tuning_no_tuning[config_name] = {'mean': np.mean(scores_no), 'std': np.std(scores_no)}\n",
    "    tuning_with_tuning[config_name] = {'mean': np.mean(scores_with), 'std': np.std(scores_with)}\n",
    "\n",
    "print(\"no tuning:\")\n",
    "for name, stats in tuning_no_tuning.items():\n",
    "    print(f\"{name}: {stats['mean']:.4f} ± {stats['std']:.4f}\")\n",
    "\n",
    "print(\"\\nwith tuning:\")\n",
    "for name, stats in tuning_with_tuning.items():\n",
    "    gain = (stats['mean'] - tuning_no_tuning[name]['mean']) * 100\n",
    "    print(f\"{name}: {stats['mean']:.4f} ± {stats['std']:.4f} [gain: {gain:+.2f}%]\")"
   ]
  },
  {
   "cell_type": "code",
   "execution_count": 124,
   "metadata": {},
   "outputs": [
    {
     "data": {
      "image/png": "[encoded data removed]",
      "text/plain": [
       "<Figure size 1200x600 with 1 Axes>"
      ]
     },
     "metadata": {},
     "output_type": "display_data"
    }
   ],
   "source": [
    "fig, ax = plt.subplots(figsize=(12, 6))\n",
    "\n",
    "names = list(tuning_no_tuning.keys())\n",
    "x = np.arange(len(names))\n",
    "width = 0.35\n",
    "\n",
    "means_no = [tuning_no_tuning[n]['mean'] for n in names]\n",
    "stds_no = [tuning_no_tuning[n]['std'] for n in names]\n",
    "means_with = [tuning_with_tuning[n]['mean'] for n in names]\n",
    "stds_with = [tuning_with_tuning[n]['std'] for n in names]\n",
    "\n",
    "ax.barh(x - width/2, means_no, width, xerr=stds_no, label='no tuning', color='#95a5a6')\n",
    "ax.barh(x + width/2, means_with, width, xerr=stds_with, label='with tuning', color='#3498db')\n",
    "\n",
    "ax.set_yticks(x)\n",
    "ax.set_yticklabels(names)\n",
    "ax.set_xlabel('f1-score')\n",
    "ax.set_title('hyperparameter tuning impact (60/40 split)')\n",
    "ax.legend()\n",
    "ax.set_xlim([0.92, 1.0])\n",
    "ax.grid(alpha=0.3, axis='x')\n",
    "\n",
    "plt.tight_layout()\n",
    "plt.savefig('hyperparameter_tuning_60_40.png', dpi=150)\n",
    "plt.show()"
   ]
  },
  {
   "cell_type": "markdown",
   "metadata": {},
   "source": [
    "## hyperparameter tuning impact (60/40 split)"
   ]
  }
 ],
 "metadata": {
  "kernelspec": {
   "display_name": "Python 3 (ipykernel)",
   "language": "python",
   "name": "python3"
  },
  "language_info": {
   "codemirror_mode": {
    "name": "ipython",
    "version": 3
   },
   "file_extension": ".py",
   "mimetype": "text/x-python",
   "name": "python",
   "nbconvert_exporter": "python",
   "pygments_lexer": "ipython3",
   "version": "3.13.7"
  }
 },
 "nbformat": 4,
 "nbformat_minor": 4
}
